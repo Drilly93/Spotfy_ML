{
 "cells": [
  {
   "cell_type": "code",
   "execution_count": 8,
   "id": "2119ec01-b93e-4820-842f-a410b0546620",
   "metadata": {},
   "outputs": [],
   "source": [
    "import pandas as pd \n",
    "import pandas as pd\n",
    "import seaborn as sns\n",
    "import matplotlib.pyplot as plt\n"
   ]
  },
  {
   "cell_type": "code",
   "execution_count": 9,
   "id": "353ff375-d0c1-4093-ada4-798948405567",
   "metadata": {},
   "outputs": [],
   "source": [
    "df = pd.read_csv(\"Dataset/spotify_dataset.csv\")"
   ]
  },
  {
   "cell_type": "markdown",
   "id": "432117b0-c894-4a7e-a8a6-d5cc319ab403",
   "metadata": {},
   "source": [
    "# Tranformation des Dataset"
   ]
  },
  {
   "cell_type": "markdown",
   "id": "120964fc-ac84-41e8-a770-8d4ad2f08bfd",
   "metadata": {},
   "source": [
    "### Spotify_dataset_transformed"
   ]
  },
  {
   "cell_type": "code",
   "execution_count": 12,
   "id": "344cad23-9785-463d-9d8e-1c391daeb475",
   "metadata": {},
   "outputs": [
    {
     "ename": "KeyError",
     "evalue": "['Main_genre']",
     "output_type": "error",
     "traceback": [
      "\u001b[1;31m---------------------------------------------------------------------------\u001b[0m",
      "\u001b[1;31mKeyError\u001b[0m                                  Traceback (most recent call last)",
      "\u001b[1;32m~\\AppData\\Local\\Temp\\ipykernel_10460\\2417977473.py\u001b[0m in \u001b[0;36m?\u001b[1;34m()\u001b[0m\n\u001b[0;32m     15\u001b[0m \u001b[1;31m# Afficher les premières lignes pour vérifier\u001b[0m\u001b[1;33m\u001b[0m\u001b[1;33m\u001b[0m\u001b[0m\n\u001b[0;32m     16\u001b[0m \u001b[1;33m\u001b[0m\u001b[0m\n\u001b[0;32m     17\u001b[0m \u001b[0mdf_copy\u001b[0m\u001b[1;33m[\u001b[0m\u001b[1;33m[\u001b[0m\u001b[1;34m'Genre'\u001b[0m\u001b[1;33m,\u001b[0m \u001b[1;34m'Main_genre'\u001b[0m\u001b[1;33m]\u001b[0m\u001b[1;33m]\u001b[0m\u001b[1;33m\u001b[0m\u001b[1;33m\u001b[0m\u001b[0m\n\u001b[0;32m     18\u001b[0m \u001b[0mnb_none\u001b[0m \u001b[1;33m=\u001b[0m \u001b[0mdf_copy\u001b[0m\u001b[1;33m[\u001b[0m\u001b[1;34m'Main_genre'\u001b[0m\u001b[1;33m]\u001b[0m\u001b[1;33m.\u001b[0m\u001b[0misna\u001b[0m\u001b[1;33m(\u001b[0m\u001b[1;33m)\u001b[0m\u001b[1;33m.\u001b[0m\u001b[0msum\u001b[0m\u001b[1;33m(\u001b[0m\u001b[1;33m)\u001b[0m\u001b[1;33m\u001b[0m\u001b[1;33m\u001b[0m\u001b[0m\n\u001b[1;32m---> 19\u001b[1;33m \u001b[0mdf_transformed\u001b[0m \u001b[1;33m=\u001b[0m \u001b[0mdf\u001b[0m\u001b[1;33m.\u001b[0m\u001b[0mdropna\u001b[0m\u001b[1;33m(\u001b[0m\u001b[0msubset\u001b[0m\u001b[1;33m=\u001b[0m\u001b[1;33m[\u001b[0m\u001b[1;34m'Main_genre'\u001b[0m\u001b[1;33m]\u001b[0m\u001b[1;33m)\u001b[0m\u001b[1;33m.\u001b[0m\u001b[0mcopy\u001b[0m\u001b[1;33m(\u001b[0m\u001b[1;33m)\u001b[0m\u001b[1;33m\u001b[0m\u001b[1;33m\u001b[0m\u001b[0m\n\u001b[0m\u001b[0;32m     20\u001b[0m \u001b[0mprint\u001b[0m\u001b[1;33m(\u001b[0m\u001b[1;34mf\"Nombre de lignes avant suppression : {nb_lines}\"\u001b[0m\u001b[1;33m)\u001b[0m\u001b[1;33m\u001b[0m\u001b[1;33m\u001b[0m\u001b[0m\n\u001b[0;32m     21\u001b[0m \u001b[0mprint\u001b[0m\u001b[1;33m(\u001b[0m\u001b[1;34mf\"Nombre de lignes après suppression : {len(df_transformed)}\"\u001b[0m\u001b[1;33m)\u001b[0m\u001b[1;33m\u001b[0m\u001b[1;33m\u001b[0m\u001b[0m\n\u001b[0;32m     22\u001b[0m \u001b[1;33m\u001b[0m\u001b[0m\n",
      "\u001b[1;32m~\\AppData\\Local\\Packages\\PythonSoftwareFoundation.Python.3.11_qbz5n2kfra8p0\\LocalCache\\local-packages\\Python311\\site-packages\\pandas\\core\\frame.py\u001b[0m in \u001b[0;36m?\u001b[1;34m(self, axis, how, thresh, subset, inplace, ignore_index)\u001b[0m\n\u001b[0;32m   6666\u001b[0m             \u001b[0max\u001b[0m \u001b[1;33m=\u001b[0m \u001b[0mself\u001b[0m\u001b[1;33m.\u001b[0m\u001b[0m_get_axis\u001b[0m\u001b[1;33m(\u001b[0m\u001b[0magg_axis\u001b[0m\u001b[1;33m)\u001b[0m\u001b[1;33m\u001b[0m\u001b[1;33m\u001b[0m\u001b[0m\n\u001b[0;32m   6667\u001b[0m             \u001b[0mindices\u001b[0m \u001b[1;33m=\u001b[0m \u001b[0max\u001b[0m\u001b[1;33m.\u001b[0m\u001b[0mget_indexer_for\u001b[0m\u001b[1;33m(\u001b[0m\u001b[0msubset\u001b[0m\u001b[1;33m)\u001b[0m\u001b[1;33m\u001b[0m\u001b[1;33m\u001b[0m\u001b[0m\n\u001b[0;32m   6668\u001b[0m             \u001b[0mcheck\u001b[0m \u001b[1;33m=\u001b[0m \u001b[0mindices\u001b[0m \u001b[1;33m==\u001b[0m \u001b[1;33m-\u001b[0m\u001b[1;36m1\u001b[0m\u001b[1;33m\u001b[0m\u001b[1;33m\u001b[0m\u001b[0m\n\u001b[0;32m   6669\u001b[0m             \u001b[1;32mif\u001b[0m \u001b[0mcheck\u001b[0m\u001b[1;33m.\u001b[0m\u001b[0many\u001b[0m\u001b[1;33m(\u001b[0m\u001b[1;33m)\u001b[0m\u001b[1;33m:\u001b[0m\u001b[1;33m\u001b[0m\u001b[1;33m\u001b[0m\u001b[0m\n\u001b[1;32m-> 6670\u001b[1;33m                 \u001b[1;32mraise\u001b[0m \u001b[0mKeyError\u001b[0m\u001b[1;33m(\u001b[0m\u001b[0mnp\u001b[0m\u001b[1;33m.\u001b[0m\u001b[0marray\u001b[0m\u001b[1;33m(\u001b[0m\u001b[0msubset\u001b[0m\u001b[1;33m)\u001b[0m\u001b[1;33m[\u001b[0m\u001b[0mcheck\u001b[0m\u001b[1;33m]\u001b[0m\u001b[1;33m.\u001b[0m\u001b[0mtolist\u001b[0m\u001b[1;33m(\u001b[0m\u001b[1;33m)\u001b[0m\u001b[1;33m)\u001b[0m\u001b[1;33m\u001b[0m\u001b[1;33m\u001b[0m\u001b[0m\n\u001b[0m\u001b[0;32m   6671\u001b[0m             \u001b[0magg_obj\u001b[0m \u001b[1;33m=\u001b[0m \u001b[0mself\u001b[0m\u001b[1;33m.\u001b[0m\u001b[0mtake\u001b[0m\u001b[1;33m(\u001b[0m\u001b[0mindices\u001b[0m\u001b[1;33m,\u001b[0m \u001b[0maxis\u001b[0m\u001b[1;33m=\u001b[0m\u001b[0magg_axis\u001b[0m\u001b[1;33m)\u001b[0m\u001b[1;33m\u001b[0m\u001b[1;33m\u001b[0m\u001b[0m\n\u001b[0;32m   6672\u001b[0m \u001b[1;33m\u001b[0m\u001b[0m\n\u001b[0;32m   6673\u001b[0m         \u001b[1;32mif\u001b[0m \u001b[0mthresh\u001b[0m \u001b[1;32mis\u001b[0m \u001b[1;32mnot\u001b[0m \u001b[0mlib\u001b[0m\u001b[1;33m.\u001b[0m\u001b[0mno_default\u001b[0m\u001b[1;33m:\u001b[0m\u001b[1;33m\u001b[0m\u001b[1;33m\u001b[0m\u001b[0m\n",
      "\u001b[1;31mKeyError\u001b[0m: ['Main_genre']"
     ]
    }
   ],
   "source": [
    "top_genres = ['hip hop', 'pop', 'rock', 'trap', 'alternative rock', 'rap', 'pop rock', 'electronic']\n",
    "df_copy = df.copy()\n",
    "def get_most_popular_genre(genres_str):\n",
    "    if pd.isna(genres_str):\n",
    "        return None\n",
    "    genres = [g.strip() for g in genres_str.split(',')]\n",
    "    for top_genre in top_genres:\n",
    "        if top_genre in genres:\n",
    "            return top_genre\n",
    "    return None  # Aucun des top genres n'est présent\n",
    "\n",
    "# Appliquer la fonction à la colonne contenant les genres\n",
    "df_copy['Main_genre'] = df_copy['Genre'].apply(get_most_popular_genre)\n",
    "\n",
    "# Afficher les premières lignes pour vérifier\n",
    "\n",
    "df_copy[['Genre', 'Main_genre']]\n",
    "nb_none = df_copy['Main_genre'].isna().sum()\n",
    "df_transformed = df.dropna(subset=['Main_genre']).copy()\n",
    "print(f\"Nombre de lignes avant suppression : {nb_lines}\")\n",
    "print(f\"Nombre de lignes après suppression : {len(df_transformed)}\")\n",
    "\n",
    "\n",
    "main_genre_mapping = {genre: idx for idx, genre in enumerate(top_genres)}\n",
    "df_transformed[\"Main_genre_index\"] = df_transformed[\"Main_genre\"].map(main_genre_mapping)\n",
    "\n",
    "df_transformed[list(set((desc_features + ['Main_genre',\"Main_genre_index\"]))-set([\"Album\",\"Popularity\",\"Release Date\"]))]"
   ]
  },
  {
   "cell_type": "markdown",
   "id": "15fac6ac-793b-4a79-81d1-f07160e4d32b",
   "metadata": {},
   "source": [
    "### Spotify_dataset_popularity_balanced"
   ]
  },
  {
   "cell_type": "code",
   "execution_count": null,
   "id": "0f3deec2-3a23-4e7e-b0ab-f737f3e2e849",
   "metadata": {},
   "outputs": [],
   "source": [
    "import pandas as pd\n",
    "\n",
    "# Chargement du dataset\n",
    "df = pd.read_csv(\"Dataset/spotify_dataset.csv\")  # Remplace par le bon chemin si besoin\n",
    "\n",
    "\n",
    "def length_to_seconds(length):\n",
    "    if pd.notna(length):\n",
    "        parts = str(length).split(\":\")\n",
    "        if len(parts) == 2:\n",
    "            minutes = int(parts[0])\n",
    "            seconds = int(parts[1])\n",
    "            return minutes * 60 + seconds\n",
    "    return 0\n",
    "\n",
    "df['text'] = df['text'].apply(lambda x: len(str(x).split()) if pd.notna(x) else 0) #A Réécrire\n",
    "df['Length'] = df['Length'].apply(length_to_seconds) #Conversion du Length en secondes\n",
    "\n",
    "# Séparer les morceaux populaires et non populaires\n",
    "popular = df[df[\"Popularity\"] > 70]\n",
    "non_popular = df[df[\"Popularity\"] <= 70]\n",
    "\n",
    "# Objectif : 40% de morceaux populaires, 60% de non populaires\n",
    "nb_popular = 8000\n",
    "nb_non_popular = int((0.6 * nb_popular) / 0.4)  # soit 15000\n",
    "\n",
    "# Échantillonnage aléatoire\n",
    "popular_sampled = popular.sample(n=nb_popular, random_state=42)\n",
    "non_popular_sampled = non_popular.sample(n=nb_non_popular, random_state=42)\n",
    "\n",
    "# Fusionner et mélanger\n",
    "balanced_df = pd.concat([popular_sampled, non_popular_sampled]).sample(frac=1, random_state=42).reset_index(drop=True)\n",
    "\n",
    "# Vérification\n",
    "l1 = len(balanced_df[balanced_df[\"Popularity\"] > 70])\n",
    "l2 = len(balanced_df[balanced_df[\"Popularity\"] <= 70])\n",
    "print(\"Total :\", len(balanced_df))\n",
    "print(\"Popularité > 70 :\", l1)\n",
    "print(\"Popularité ≤ 70 :\", l2)\n",
    "print(\"Proportions :\", round(l1 / (l1 + l2), 2), \"/\", round(l2 / (l1 + l2), 2))\n",
    "\n",
    "df.to_csv(\"Dataset/spotify_dataset_popularity_balanced.csv\", index=False)"
   ]
  },
  {
   "cell_type": "code",
   "execution_count": null,
   "id": "de61c4df-a17d-4731-8b1a-717f5270349a",
   "metadata": {},
   "outputs": [],
   "source": []
  }
 ],
 "metadata": {
  "kernelspec": {
   "display_name": "Python 3 (ipykernel)",
   "language": "python",
   "name": "python3"
  },
  "language_info": {
   "codemirror_mode": {
    "name": "ipython",
    "version": 3
   },
   "file_extension": ".py",
   "mimetype": "text/x-python",
   "name": "python",
   "nbconvert_exporter": "python",
   "pygments_lexer": "ipython3",
   "version": "3.11.9"
  }
 },
 "nbformat": 4,
 "nbformat_minor": 5
}
